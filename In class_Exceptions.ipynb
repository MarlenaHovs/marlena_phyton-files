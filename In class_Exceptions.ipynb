{
 "cells": [
  {
   "cell_type": "code",
   "execution_count": 6,
   "metadata": {},
   "outputs": [
    {
     "name": "stdout",
     "output_type": "stream",
     "text": [
      "No module named 'play'\n",
      "The module does not exists!\n"
     ]
    }
   ],
   "source": [
    "try:\n",
    "    import play\n",
    "except ModuleNotFoundError as e:\n",
    "    print(e)\n",
    "    print(\"The module does not exists!\")\n"
   ]
  },
  {
   "cell_type": "code",
   "execution_count": 14,
   "metadata": {},
   "outputs": [
    {
     "name": "stdout",
     "output_type": "stream",
     "text": [
      "the entry is  a\n",
      "Oops unsupported operand type(s) for /: 'int' and 'str'\n",
      "the entry is  0\n",
      "Oops division by zero\n",
      "the entry is  2\n",
      "0.5\n"
     ]
    }
   ],
   "source": [
    "L1 = [\"a\", 0, 2]\n",
    "for i in L1:\n",
    "    try:\n",
    "        print('the entry is ', i)\n",
    "        print(1/i)\n",
    "    except Exception as e:\n",
    "        print('Oops', e)\n",
    "\n",
    "    \n"
   ]
  },
  {
   "cell_type": "code",
   "execution_count": 25,
   "metadata": {
    "scrolled": true
   },
   "outputs": [
    {
     "name": "stdout",
     "output_type": "stream",
     "text": [
      "Username: Mar\n",
      "Welcome Mar\n"
     ]
    }
   ],
   "source": [
    "Username = input('Username: ')\n",
    "try:\n",
    "    if Username == 'Rambo':\n",
    "        raise Exception\n",
    "    else:\n",
    "        print(\"Welcome\", Username)\n",
    "except:\n",
    "    print('Rambo is an invalid username')\n"
   ]
  },
  {
   "cell_type": "code",
   "execution_count": null,
   "metadata": {},
   "outputs": [],
   "source": []
  }
 ],
 "metadata": {
  "kernelspec": {
   "display_name": "Python 3",
   "language": "python",
   "name": "python3"
  },
  "language_info": {
   "codemirror_mode": {
    "name": "ipython",
    "version": 3
   },
   "file_extension": ".py",
   "mimetype": "text/x-python",
   "name": "python",
   "nbconvert_exporter": "python",
   "pygments_lexer": "ipython3",
   "version": "3.6.5"
  }
 },
 "nbformat": 4,
 "nbformat_minor": 2
}
