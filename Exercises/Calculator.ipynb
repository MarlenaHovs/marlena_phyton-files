{
 "cells": [
  {
   "cell_type": "code",
   "execution_count": 5,
   "metadata": {},
   "outputs": [
    {
     "name": "stdout",
     "output_type": "stream",
     "text": [
      "Choose the operation (+,-,/,*): +\n",
      "Enter num1: 4\n",
      "Enter num2: 5\n",
      "9\n"
     ]
    }
   ],
   "source": [
    "def add(num1,num2):\n",
    "    return num1 + num2\n",
    "\n",
    "def sub(num1,num2):\n",
    "    return num1 - num2\n",
    "\n",
    "def div(num1,num2):\n",
    "    return num1 / num2\n",
    "\n",
    "def mult(num1,num2):\n",
    "    return num1 * num2\n",
    "\n",
    "\n",
    "\n",
    "def calculator():\n",
    "\n",
    "    Operation = input(\"Choose the operation (+,-,/,*): \")\n",
    "    if(Operation != \"+\" and Operation != \"-\" and Operation != \"/\" and Operation != \"*+\"):\n",
    "        print (\"Enter valid operation!\")\n",
    "    else:\n",
    "\n",
    "        num1 = int(input(\"Enter num1: \"))\n",
    "        num2 = int(input(\"Enter num2: \"))\n",
    "\n",
    "        if Operation == (\"+\"):\n",
    "            print (add(num1,num2))\n",
    "        elif Operation == (\"-\"):\n",
    "            print(sub(num1,num2))\n",
    "        elif Operation == (\"/\"):\n",
    "            print (div(num1,num2))\n",
    "        else:\n",
    "            print (mult(num1,num2))\n",
    "\n",
    "calculator()"
   ]
  },
  {
   "cell_type": "markdown",
   "metadata": {},
   "source": []
  }
 ],
 "metadata": {
  "kernelspec": {
   "display_name": "Python 3",
   "language": "python",
   "name": "python3"
  },
  "language_info": {
   "codemirror_mode": {
    "name": "ipython",
    "version": 3
   },
   "file_extension": ".py",
   "mimetype": "text/x-python",
   "name": "python",
   "nbconvert_exporter": "python",
   "pygments_lexer": "ipython3",
   "version": "3.6.5"
  }
 },
 "nbformat": 4,
 "nbformat_minor": 2
}
