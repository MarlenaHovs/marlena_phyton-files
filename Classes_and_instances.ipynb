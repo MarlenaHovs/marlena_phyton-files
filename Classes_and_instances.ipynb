{
 "cells": [
  {
   "cell_type": "markdown",
   "metadata": {},
   "source": [
    "## Classes"
   ]
  },
  {
   "cell_type": "markdown",
   "metadata": {},
   "source": [
    "When we have objects of the same \"type\", we want to have something general, that will define their characteristics (attributes) and functionality (methods). "
   ]
  },
  {
   "cell_type": "markdown",
   "metadata": {
    "collapsed": true
   },
   "source": [
    "#### Example: we have a company and we want to represent our empoloyees "
   ]
  },
  {
   "cell_type": "markdown",
   "metadata": {},
   "source": [
    "Each employee will have:\n",
    "\n",
    "    name\n",
    "    last name\n",
    "    pay\n",
    "    some actions they can perform"
   ]
  },
  {
   "cell_type": "markdown",
   "metadata": {},
   "source": [
    "Would be nice to have a \"form\" that we could fill in to create an employee, instead of reating everyone manually from scratch"
   ]
  },
  {
   "cell_type": "code",
   "execution_count": null,
   "metadata": {},
   "outputs": [],
   "source": [
    "#Class with no attributes and methods\n",
    "class Employee:\n",
    "    pass  #We will put a pass for now, this is still an empty class"
   ]
  },
  {
   "cell_type": "markdown",
   "metadata": {
    "collapsed": true
   },
   "source": [
    "##### Class - blueprint for creating instances.\n",
    "##### Class - object, instance - concrete occurance of the object"
   ]
  },
  {
   "cell_type": "code",
   "execution_count": null,
   "metadata": {},
   "outputs": [],
   "source": [
    "#creating 2 instances\n",
    "emp1 = Employee()\n",
    "emp2 = Employee()"
   ]
  },
  {
   "cell_type": "code",
   "execution_count": null,
   "metadata": {},
   "outputs": [],
   "source": [
    "#Unique objects, different places in memory\n",
    "print(emp1, emp2)"
   ]
  },
  {
   "cell_type": "markdown",
   "metadata": {},
   "source": [
    "#### Instance variables - have different values for each instance"
   ]
  },
  {
   "cell_type": "code",
   "execution_count": null,
   "metadata": {},
   "outputs": [],
   "source": [
    "#creating manually for each employee\n",
    "#You don't have to specify all variable values for all instances\n",
    "emp1.first = 'Anna'\n",
    "emp1.last = 'Sargsyan'\n",
    "emp1.pay = 50\n",
    "\n",
    "emp2.first = 'Mery'\n",
    "emp2.last = 'Melikyan'\n",
    "emp2.pay = 70"
   ]
  },
  {
   "cell_type": "code",
   "execution_count": null,
   "metadata": {},
   "outputs": [],
   "source": [
    "print(emp1.pay)"
   ]
  },
  {
   "cell_type": "markdown",
   "metadata": {},
   "source": [
    "1. A lot of code\n",
    "\n",
    "2. Possibility of mistakes\n",
    "\n",
    "=> We won't do this manually"
   ]
  },
  {
   "cell_type": "markdown",
   "metadata": {},
   "source": [
    "### Class Constructor"
   ]
  },
  {
   "cell_type": "code",
   "execution_count": null,
   "metadata": {},
   "outputs": [],
   "source": [
    "class Employee:\n",
    "    #Constructor - intializing the class\n",
    "    def __init__(self): #Every member function of a class gets self as an argument\n",
    "        #When we create an instance, self is replaced by the instance object\n",
    "        print('Our class is created')"
   ]
  },
  {
   "cell_type": "markdown",
   "metadata": {},
   "source": [
    "As soon as you create an instance of a class, the class constructor is called.\n",
    "\n",
    "No need to call the constructor explicitly."
   ]
  },
  {
   "cell_type": "code",
   "execution_count": null,
   "metadata": {},
   "outputs": [],
   "source": [
    "emp_test = Employee()"
   ]
  },
  {
   "cell_type": "markdown",
   "metadata": {},
   "source": [
    "### Class Destructor"
   ]
  },
  {
   "cell_type": "code",
   "execution_count": null,
   "metadata": {},
   "outputs": [],
   "source": [
    "class Employee:\n",
    "    #Constructor - intializing the class\n",
    "    def __init__(self): #Every member function of a class gets self as an argument\n",
    "        #When we create an instance, self is replaced by the instance object\n",
    "        print('Our class is created')\n",
    "        \n",
    "    def set_name(self, name, last_name):\n",
    "        print('The full name is: ', name, last_name)\n",
    "        \n",
    "    def __del__(self):\n",
    "        print('Out class object is destroyed')"
   ]
  },
  {
   "cell_type": "code",
   "execution_count": null,
   "metadata": {},
   "outputs": [],
   "source": [
    "#__del__() is called automatically, when the instance is out of scope i.e. doesn't appear in the code anymore\n",
    "emp_test = Employee()\n",
    "emp_test.set_name('Anna', 'Sargsyan')"
   ]
  },
  {
   "cell_type": "code",
   "execution_count": null,
   "metadata": {},
   "outputs": [],
   "source": [
    "#When __del__() is called, it destroys all the sources used by the instance emp_test\n",
    "#Similar to a garbage collector\n",
    "emp_test.__del__()"
   ]
  },
  {
   "cell_type": "markdown",
   "metadata": {},
   "source": [
    "Let's continue with our example ..."
   ]
  },
  {
   "cell_type": "code",
   "execution_count": null,
   "metadata": {},
   "outputs": [],
   "source": [
    "#You have to specify all variable values for all instances when creating those\n",
    "class Employee:\n",
    "    #Constructor\n",
    "    def __init__(self, first, last, pay): #receives instance 'self' as argument\n",
    "        self.first = first\n",
    "        self.last = last\n",
    "        self.pay = pay\n",
    "        self.email = first + '_' + last + '@gmail.com'"
   ]
  },
  {
   "cell_type": "code",
   "execution_count": null,
   "metadata": {},
   "outputs": [],
   "source": [
    "emp1 = Employee('John', 'Smith', 50)\n",
    "emp2 = Employee('Ann', 'Green', 70)\n",
    "\n",
    "print(emp1.first, emp1.last)\n",
    "print(emp2.first, emp2.last)"
   ]
  },
  {
   "cell_type": "markdown",
   "metadata": {},
   "source": [
    "first, last, pay, email are attributes of the class.\n",
    "\n",
    "Now, we want to have an ability to perform some action"
   ]
  },
  {
   "cell_type": "code",
   "execution_count": null,
   "metadata": {},
   "outputs": [],
   "source": [
    "class Employee:\n",
    "    def __init__(self, first, last, pay): #receives instance 'self' as argument\n",
    "        self.first = first\n",
    "        self.last = last\n",
    "        self.payy = pay\n",
    "        self.email = first + '_' + last + '@gmail.com'\n",
    "        \n",
    "    #Class member function i.e. method\n",
    "    def full_name(self): #again, instance as the first argument\n",
    "        print(self.first, self.last)"
   ]
  },
  {
   "cell_type": "code",
   "execution_count": null,
   "metadata": {},
   "outputs": [],
   "source": [
    "# The instance is passed automatically, we only provide the other arguments: name, last name and pay\n",
    "#The init method is called immedietly and the assignments are done\n",
    "\n",
    "emp1 = Employee('John', 'Smith', 50)  \n",
    "emp2 = Employee('Ann', 'Green', 70)\n",
    "\n",
    "emp1.full_name()\n",
    "print(emp1.email)\n",
    "emp2.full_name()"
   ]
  },
  {
   "cell_type": "code",
   "execution_count": null,
   "metadata": {},
   "outputs": [],
   "source": [
    "#Example with an error\n",
    "class Employee:\n",
    "    def __init__(self, first, last, pay): #receives instance 'self' as argument\n",
    "        self.first = first\n",
    "        self.last = last\n",
    "        self.payy = pay\n",
    "        self.email = first + '_' + last + '@gmail.com'\n",
    "        \n",
    "    #Class member function i.e. method\n",
    "    def full_name(self): #again, instance as the first argument\n",
    "        print(self.first, self.last)\n",
    "       \n",
    "    #This function doesn't get self as an argument, which is incorrect\n",
    "    def print_hi():\n",
    "        print('hi')"
   ]
  },
  {
   "cell_type": "code",
   "execution_count": null,
   "metadata": {},
   "outputs": [],
   "source": [
    "emp3 = Employee('Ann', 'Green', 50)\n",
    "\n",
    "emp3.print_hi()"
   ]
  },
  {
   "cell_type": "markdown",
   "metadata": {},
   "source": [
    "Calling the same method from the class, we have to manually path the instance that we want\n",
    "\n",
    "In case of instance calls the instance is passed as an argument automatically "
   ]
  },
  {
   "cell_type": "code",
   "execution_count": null,
   "metadata": {},
   "outputs": [],
   "source": [
    "class Employee:\n",
    "    def __init__(self, first, last, pay): #receives instance 'self' as argument\n",
    "        self.first = first\n",
    "        self.last = last\n",
    "        self.payy = pay\n",
    "        self.email = first + '_' + last + '@gmail.com'\n",
    "        \n",
    "    #Class member function i.e. method\n",
    "    def full_name(self): #again, instance as the first argument\n",
    "        print(self.first, self.last)"
   ]
  },
  {
   "cell_type": "code",
   "execution_count": null,
   "metadata": {},
   "outputs": [],
   "source": [
    "Employee.full_name(emp2)"
   ]
  },
  {
   "cell_type": "markdown",
   "metadata": {},
   "source": [
    "#### Class variables - Variables shared among all instances of the class"
   ]
  },
  {
   "cell_type": "markdown",
   "metadata": {
    "collapsed": true
   },
   "source": [
    "Instance variables can be different among different instances.\n",
    "\n",
    "Class variable is the same for all instances\n",
    "\n",
    "What kind of data would we want to be shared among all the employees?\n",
    "Say, anual raises ever year, the same for all employees - class variable candidate"
   ]
  },
  {
   "cell_type": "code",
   "execution_count": null,
   "metadata": {},
   "outputs": [],
   "source": [
    "class Employee:\n",
    "    def __init__(self, first, last, pay): #receives instance 'self' as argument\n",
    "        self.first = first\n",
    "        self.last = last\n",
    "        self.pay = pay\n",
    "        self.email = first + '_' + last + '@gmail.com'\n",
    "        \n",
    "    def full_name(self):\n",
    "        print(self.first, self.last)\n",
    "\n",
    "    def apply_raise(self):\n",
    "        #having numbers written explicitly - usually a bad idea\n",
    "        self.pay = int(self.pay * 1.04)  # 1.04 is the raise ammount \n",
    "\n",
    "emp_1 = Employee('John', 'Smith', 50)  \n",
    "emp_2 = Employee('Ann', 'Green', 70)\n",
    "\n",
    "\n",
    "print(emp_1.pay)\n",
    "emp_1.apply_raise()\n",
    "print(emp_1.pay)"
   ]
  },
  {
   "cell_type": "markdown",
   "metadata": {
    "collapsed": true
   },
   "source": [
    "It would be nice to access the raise amount (emp_1.raise_amount)\n",
    "Or simply Employee.raise_amount\n",
    "\n",
    "Right now its hidden inside the code, we would have to manually find it in different \n",
    "places in code in case we want to change it."
   ]
  },
  {
   "cell_type": "code",
   "execution_count": null,
   "metadata": {},
   "outputs": [],
   "source": [
    "class Employee:\n",
    "    \n",
    "    raise_amount = 1.04\n",
    "    \n",
    "    def __init__(self, first, last, pay): #receives instance 'self' as argument\n",
    "        self.first = first\n",
    "        self.last = last\n",
    "        self.pay = pay\n",
    "        self.email = first + '_' + last + '@gmail.com'\n",
    "        \n",
    "    def full_name(self):\n",
    "        print(self.first, self.last)\n",
    "\n",
    "    def apply_raise(self):\n",
    "        self.pay = int(self.pay * self.raise_amount)\n",
    "        #OR self.pay = int(self.pay * Employee.raise_amount)\n",
    "\n",
    "emp_1 = Employee('John', 'Smith', 50)  \n",
    "emp_2 = Employee('Ann', 'Green', 70)\n",
    "\n",
    "\n",
    "print(emp_1.pay)\n",
    "emp_1.apply_raise()\n",
    "print(emp_1.pay)"
   ]
  },
  {
   "cell_type": "code",
   "execution_count": null,
   "metadata": {},
   "outputs": [],
   "source": [
    "#You can access a class var from class itself or an instance of a class\n",
    "\n",
    "print(emp_1.raise_amount)\n",
    "print(Employee.raise_amount)\n",
    "print(emp_2.raise_amount)"
   ]
  },
  {
   "cell_type": "code",
   "execution_count": null,
   "metadata": {},
   "outputs": [],
   "source": [
    "print(emp_1.__dict__) #the namespace of emp_1, no raise amount in this list\n",
    "print(Employee.__dict__) #raise_amount is here"
   ]
  },
  {
   "cell_type": "code",
   "execution_count": null,
   "metadata": {},
   "outputs": [],
   "source": [
    "#Let's try to change the raise_amount\n",
    "#Change from class - it changes for class and all instances\n",
    "\n",
    "Employee.raise_amount = 1.05\n",
    "\n",
    "print(emp_1.raise_amount)\n",
    "print(Employee.raise_amount)\n",
    "print(emp_2.raise_amount)\n",
    "\n",
    "#raise_amount for the class and all the instances is changed"
   ]
  },
  {
   "cell_type": "code",
   "execution_count": null,
   "metadata": {},
   "outputs": [],
   "source": [
    "#But if we change the raise_amount using the instance, only the value for that instance is changed\n",
    "\n",
    "emp_1.raise_amount = 1.04\n",
    "\n",
    "print(emp_1.raise_amount)\n",
    "print(Employee.raise_amount)\n",
    "print(emp_2.raise_amount)\n",
    "\n",
    "#this assignment created a raise_amount attribute within emp_1,\n",
    "#we can see this if we print the namespace\n",
    "#So it finds it in its own namespace before searching in the class\n",
    "print(emp_1.__dict__)"
   ]
  },
  {
   "cell_type": "code",
   "execution_count": null,
   "metadata": {},
   "outputs": [],
   "source": [
    "#Now, going back, we would get different results when using self.raise_amount and Employee.raise_amount\n",
    "#We better have self.raise_amount\n",
    "\n",
    "#In some cases we don't want the variable to differ for different instances.\n",
    "#e.g. num_of_employees"
   ]
  }
 ],
 "metadata": {
  "kernelspec": {
   "display_name": "Python 3",
   "language": "python",
   "name": "python3"
  },
  "language_info": {
   "codemirror_mode": {
    "name": "ipython",
    "version": 3
   },
   "file_extension": ".py",
   "mimetype": "text/x-python",
   "name": "python",
   "nbconvert_exporter": "python",
   "pygments_lexer": "ipython3",
   "version": "3.6.6"
  }
 },
 "nbformat": 4,
 "nbformat_minor": 2
}
